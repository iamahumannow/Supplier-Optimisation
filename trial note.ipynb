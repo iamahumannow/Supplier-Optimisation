{
 "cells": [
  {
   "cell_type": "code",
   "execution_count": null,
   "metadata": {},
   "outputs": [],
   "source": [
    "import pandas as pd\n",
    "from selenium import webdriver\n",
    "from time import sleep\n",
    "from selenium.webdriver.common.by import By\n",
    "from selenium.webdriver.support.ui import WebDriverWait\n",
    "from selenium.webdriver.chrome.options import Options\n",
    "from selenium.webdriver.support import expected_conditions as EC"
   ]
  },
  {
   "cell_type": "code",
   "execution_count": null,
   "metadata": {},
   "outputs": [],
   "source": [
    "cService = webdriver.ChromeService(executable_path=\"C:\\\\Users\\\\Lenovo\\\\Downloads\\\\chromedriver-win64\\\\chromedriver-win64\\\\chromedriver.exe\")\n",
    "driver = webdriver.Chrome(service = cService)\n",
    "driver.get(\"https://www.indiamart.com/proddetail/orange-nirmalnet-collar-polyester-t-shirt-24541578891.html?pos=1&pla=n\")\n",
    "\n",
    "options=Options()\n",
    "options.add_experimental_option(\"detach\", True)\n",
    "\n",
    "\n",
    "price = driver.find_element(By.CSS_SELECTOR, \".bo.price-unit\").text\n",
    "\n",
    "\n"
   ]
  },
  {
   "cell_type": "code",
   "execution_count": null,
   "metadata": {},
   "outputs": [],
   "source": [
    "#supplier_details=driver.find_elements(By.CSS_SELECTOR, \".fs13.color1.pml10\")\n",
    "\n",
    "company=driver.find_element(By.CSS_SELECTOR, \".color6.pd_txu.bo\").text\n",
    "#person=driver.find_element(By.CSS_SELECTOR, \".supp_nm\").get_attribute(\"innerHTML\")\n",
    "location=driver.find_element(By.CSS_SELECTOR, \".color3.pd_txu.gtdir.on\").get_attribute(\"href\")\n",
    "website=driver.find_element(By.CSS_SELECTOR, \".color1.utd\").get_attribute(\"href\")\n",
    "gst_number=driver.find_element(By.XPATH, \"//span[text()='GST']\").find_element(By.XPATH, \"following-sibling::span\").find_element(By.XPATH, \"following-sibling::span\").text\n",
    "\n",
    "\n",
    "print(price,company,location,website,gst_number, sep=\"\\n\")"
   ]
  }
 ],
 "metadata": {
  "kernelspec": {
   "display_name": "Python 3",
   "language": "python",
   "name": "python3"
  },
  "language_info": {
   "codemirror_mode": {
    "name": "ipython",
    "version": 3
   },
   "file_extension": ".py",
   "mimetype": "text/x-python",
   "name": "python",
   "nbconvert_exporter": "python",
   "pygments_lexer": "ipython3",
   "version": "3.10.1"
  }
 },
 "nbformat": 4,
 "nbformat_minor": 2
}
