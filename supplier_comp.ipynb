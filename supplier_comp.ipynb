{
 "cells": [
  {
   "cell_type": "code",
   "execution_count": null,
   "metadata": {},
   "outputs": [],
   "source": [
    "import pandas as pd\n",
    "from selenium import webdriver\n",
    "from time import sleep\n",
    "from selenium.webdriver.common.by import By\n",
    "from selenium.webdriver.support.ui import WebDriverWait\n",
    "from selenium.webdriver.support import expected_conditions as EC\n",
    "\n",
    "# PATH = \"C:\\\\Users\\\\Lenovo\\\\Downloads\\\\chromedriver-win64\\\\chromedriver-win64.exe\"\n",
    "# driver = webdriver.Chrome(PATH)\n",
    "cService = webdriver.ChromeService(executable_path='C:\\\\Users\\\\Lenovo\\\\Downloads\\\\chromedriver-win64\\\\chromedriver-win64\\\\chromedriver.exe')\n",
    "driver = webdriver.Chrome(service = cService)\n",
    "driver.get(\"https://www.indiamart.com/proddetail/polyester-t-shirts-20132036262.html\")\n",
    "try:\n",
    "    content = WebDriverWait(driver, 10).until(\n",
    "        EC.presence_of_element_located((By.ID, \"lay-lft\"))\n",
    "    )\n",
    "\n",
    "    suppliers = content.find_elements_by_class_name(\"fs15\")\n",
    "    # for supplier in suppliers:\n",
    "    company = [supplier.find_element_by_class_name(\"gcnm\").text for supplier in suppliers]\n",
    "    address = [supplier.find_element_by_class_name(\"clg\").text for supplier in suppliers]\n",
    "    precise_add = [supplier.find_element_by_class_name(\"cty-t\").get_attribute(\"innerText\") for supplier in suppliers]\n",
    "    phone_no = [supplier.find_element_by_css_selector(\".bo\").get_attribute(\"innerText\") for supplier in suppliers]\n",
    "    items_list = []\n",
    "    for supplier in suppliers:\n",
    "        # items = supplier.find_elements_by_class_name(\"cp5\")\n",
    "        item = [item.find_element_by_class_name(\"gpnm\").text for item in supplier.find_elements_by_class_name(\"cp5\")]\n",
    "        items_list.append(item)\n",
    "\n",
    "finally:\n",
    "    driver.quit()\n",
    "\n",
    "supplier_det = pd.DataFrame({\n",
    "    'Company': company,\n",
    "    'Address': address,\n",
    "    'Precise_add': precise_add,\n",
    "    'Phone_no': phone_no,\n",
    "    'Items': items_list\n",
    "})\n",
    "\n",
    "print(supplier_det)\n",
    "supplier_det.to_csv(\"sup_det.csv\")"
   ]
  }
 ],
 "metadata": {
  "kernelspec": {
   "display_name": "base",
   "language": "python",
   "name": "python3"
  },
  "language_info": {
   "codemirror_mode": {
    "name": "ipython",
    "version": 3
   },
   "file_extension": ".py",
   "mimetype": "text/x-python",
   "name": "python",
   "nbconvert_exporter": "python",
   "pygments_lexer": "ipython3",
   "version": "3.10.1"
  }
 },
 "nbformat": 4,
 "nbformat_minor": 2
}
